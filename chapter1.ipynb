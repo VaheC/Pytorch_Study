{
 "cells": [
  {
   "cell_type": "markdown",
   "metadata": {},
   "source": [
    "# Importing some packages"
   ]
  },
  {
   "cell_type": "code",
   "execution_count": 6,
   "metadata": {},
   "outputs": [],
   "source": [
    "import numpy as np\n",
    "from sklearn.linear_model import LinearRegression\n",
    "\n",
    "import torch\n",
    "import torch.optim as optim\n",
    "import torch.nn as nn\n",
    "from torchviz import make_dot"
   ]
  },
  {
   "cell_type": "markdown",
   "metadata": {},
   "source": [
    "# Creating data"
   ]
  },
  {
   "cell_type": "code",
   "execution_count": 7,
   "metadata": {},
   "outputs": [],
   "source": [
    "N = 100\n",
    "ERROR_SCALE = 0.1\n",
    "TRUE_B = 1\n",
    "TRUE_W = 2\n",
    "\n",
    "np.random.seed(42)\n",
    "\n",
    "X = np.random.rand(N, 1)\n",
    "error = ERROR_SCALE * np.random.randn(N, 1)\n",
    "y = TRUE_B + TRUE_W * X + error"
   ]
  },
  {
   "cell_type": "markdown",
   "metadata": {},
   "source": [
    "Splitting into train and test sets"
   ]
  },
  {
   "cell_type": "code",
   "execution_count": 8,
   "metadata": {},
   "outputs": [],
   "source": [
    "idx = np.arange(N)\n",
    "np.random.shuffle(idx)\n",
    "\n",
    "train_idx = idx[:int(N*.8)]\n",
    "val_idx = idx[int(N*.8):]\n",
    "\n",
    "X_train, y_train = X[train_idx], y[train_idx]\n",
    "X_val, y_val = X[val_idx], y[val_idx]"
   ]
  },
  {
   "cell_type": "markdown",
   "metadata": {},
   "source": [
    "# Gradient descent"
   ]
  },
  {
   "cell_type": "markdown",
   "metadata": {},
   "source": [
    "Random parameter initialization"
   ]
  },
  {
   "cell_type": "code",
   "execution_count": 9,
   "metadata": {},
   "outputs": [],
   "source": [
    "np.random.seed(42)\n",
    "B = np.random.randn(1)\n",
    "W = np.random.randn(1)\n",
    "\n",
    "y_train_hat = B + W * X_train"
   ]
  },
  {
   "cell_type": "markdown",
   "metadata": {},
   "source": [
    "Loss computation"
   ]
  },
  {
   "cell_type": "code",
   "execution_count": 10,
   "metadata": {},
   "outputs": [
    {
     "data": {
      "text/plain": [
       "2.7421577700550976"
      ]
     },
     "execution_count": 10,
     "metadata": {},
     "output_type": "execute_result"
    }
   ],
   "source": [
    "loss = np.mean((y_train - y_train_hat)**2)\n",
    "loss"
   ]
  },
  {
   "cell_type": "markdown",
   "metadata": {},
   "source": [
    "Gradient computation"
   ]
  },
  {
   "cell_type": "code",
   "execution_count": 11,
   "metadata": {},
   "outputs": [
    {
     "name": "stdout",
     "output_type": "stream",
     "text": [
      "slope gradient = -1.8337537171510832\n",
      "intercept gradient = -3.044811379650508\n"
     ]
    }
   ],
   "source": [
    "b_grad = 2 * np.mean((y_train_hat - y_train))\n",
    "w_grad = 2 * np.mean(X_train * (y_train_hat - y_train))\n",
    "\n",
    "print(f\"slope gradient = {w_grad}\")\n",
    "print(f\"intercept gradient = {b_grad}\")"
   ]
  },
  {
   "cell_type": "markdown",
   "metadata": {},
   "source": [
    "Updating the parameters"
   ]
  },
  {
   "cell_type": "code",
   "execution_count": 13,
   "metadata": {},
   "outputs": [
    {
     "name": "stdout",
     "output_type": "stream",
     "text": [
      "Initial guess: (0.4967141530112327, -0.13826430117118466)\n",
      "Updated parameters: (0.8011952909762835, 0.04511107054392366)\n"
     ]
    }
   ],
   "source": [
    "LEARNING_RATE = 0.1\n",
    "\n",
    "B_NEW = B - LEARNING_RATE * b_grad\n",
    "W_NEW = W - LEARNING_RATE * w_grad\n",
    "\n",
    "print(f\"Initial guess: {B[0], W[0]}\")\n",
    "print(f\"Updated parameters: {B_NEW[0], W_NEW[0]}\")"
   ]
  },
  {
   "cell_type": "code",
   "execution_count": null,
   "metadata": {},
   "outputs": [],
   "source": []
  }
 ],
 "metadata": {
  "kernelspec": {
   "display_name": "pytorch",
   "language": "python",
   "name": "python3"
  },
  "language_info": {
   "codemirror_mode": {
    "name": "ipython",
    "version": 3
   },
   "file_extension": ".py",
   "mimetype": "text/x-python",
   "name": "python",
   "nbconvert_exporter": "python",
   "pygments_lexer": "ipython3",
   "version": "3.10.12"
  },
  "orig_nbformat": 4
 },
 "nbformat": 4,
 "nbformat_minor": 2
}
