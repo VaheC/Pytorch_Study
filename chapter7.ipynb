{
 "cells": [
  {
   "cell_type": "markdown",
   "metadata": {},
   "source": [
    "# Importing packages"
   ]
  },
  {
   "cell_type": "code",
   "execution_count": 28,
   "metadata": {},
   "outputs": [],
   "source": [
    "import numpy as np\n",
    "from PIL import Image\n",
    "\n",
    "import torch\n",
    "import torch.optim as optim\n",
    "import torch.nn as nn\n",
    "import torch.nn.functional as F\n",
    "from torch.utils.data import DataLoader, Dataset, random_split, \\\n",
    "  TensorDataset\n",
    "from torchvision.transforms import Compose, ToTensor, Normalize, \\\n",
    "  Resize, ToPILImage, CenterCrop, RandomResizedCrop\n",
    "from torchvision.datasets import ImageFolder\n",
    "from torchvision.models import alexnet, resnet18, inception_v3\n",
    "from torchvision.models.alexnet import AlexNet_Weights\n",
    "from torchvision.models.inception import Inception_V3_Weights\n",
    "# from torchvision.models.utils import load_state_dict_from_url\n",
    "\n",
    "from stepbystep.v3 import StepByStep"
   ]
  },
  {
   "cell_type": "markdown",
   "metadata": {},
   "source": [
    "# Transfer learning"
   ]
  },
  {
   "cell_type": "markdown",
   "metadata": {},
   "source": [
    "## AlexNet"
   ]
  },
  {
   "cell_type": "code",
   "execution_count": 2,
   "metadata": {},
   "outputs": [
    {
     "name": "stdout",
     "output_type": "stream",
     "text": [
      "AlexNet(\n",
      "  (features): Sequential(\n",
      "    (0): Conv2d(3, 64, kernel_size=(11, 11), stride=(4, 4), padding=(2, 2))\n",
      "    (1): ReLU(inplace=True)\n",
      "    (2): MaxPool2d(kernel_size=3, stride=2, padding=0, dilation=1, ceil_mode=False)\n",
      "    (3): Conv2d(64, 192, kernel_size=(5, 5), stride=(1, 1), padding=(2, 2))\n",
      "    (4): ReLU(inplace=True)\n",
      "    (5): MaxPool2d(kernel_size=3, stride=2, padding=0, dilation=1, ceil_mode=False)\n",
      "    (6): Conv2d(192, 384, kernel_size=(3, 3), stride=(1, 1), padding=(1, 1))\n",
      "    (7): ReLU(inplace=True)\n",
      "    (8): Conv2d(384, 256, kernel_size=(3, 3), stride=(1, 1), padding=(1, 1))\n",
      "    (9): ReLU(inplace=True)\n",
      "    (10): Conv2d(256, 256, kernel_size=(3, 3), stride=(1, 1), padding=(1, 1))\n",
      "    (11): ReLU(inplace=True)\n",
      "    (12): MaxPool2d(kernel_size=3, stride=2, padding=0, dilation=1, ceil_mode=False)\n",
      "  )\n",
      "  (avgpool): AdaptiveAvgPool2d(output_size=(6, 6))\n",
      "  (classifier): Sequential(\n",
      "    (0): Dropout(p=0.5, inplace=False)\n",
      "    (1): Linear(in_features=9216, out_features=4096, bias=True)\n",
      "    (2): ReLU(inplace=True)\n",
      "    (3): Dropout(p=0.5, inplace=False)\n",
      "    (4): Linear(in_features=4096, out_features=4096, bias=True)\n",
      "    (5): ReLU(inplace=True)\n",
      "    (6): Linear(in_features=4096, out_features=1000, bias=True)\n",
      "  )\n",
      ")\n"
     ]
    }
   ],
   "source": [
    "alex = alexnet(weights=None)\n",
    "print(alex)"
   ]
  },
  {
   "cell_type": "code",
   "execution_count": 27,
   "metadata": {},
   "outputs": [],
   "source": [
    "alex = alexnet(weights=AlexNet_Weights)"
   ]
  },
  {
   "cell_type": "code",
   "execution_count": 7,
   "metadata": {},
   "outputs": [],
   "source": [
    "def freeze_model(model):\n",
    "    for parameter in model.parameters():\n",
    "        parameter.requires_grad = False"
   ]
  },
  {
   "cell_type": "code",
   "execution_count": 8,
   "metadata": {},
   "outputs": [],
   "source": [
    "freeze_model(alex)"
   ]
  },
  {
   "cell_type": "code",
   "execution_count": 9,
   "metadata": {},
   "outputs": [
    {
     "name": "stdout",
     "output_type": "stream",
     "text": [
      "Sequential(\n",
      "  (0): Dropout(p=0.5, inplace=False)\n",
      "  (1): Linear(in_features=9216, out_features=4096, bias=True)\n",
      "  (2): ReLU(inplace=True)\n",
      "  (3): Dropout(p=0.5, inplace=False)\n",
      "  (4): Linear(in_features=4096, out_features=4096, bias=True)\n",
      "  (5): ReLU(inplace=True)\n",
      "  (6): Linear(in_features=4096, out_features=3, bias=True)\n",
      ")\n"
     ]
    }
   ],
   "source": [
    "print(alex.classifier)"
   ]
  },
  {
   "cell_type": "code",
   "execution_count": 10,
   "metadata": {},
   "outputs": [],
   "source": [
    "alex.classifier[6] = nn.Linear(4096, 3)"
   ]
  },
  {
   "cell_type": "code",
   "execution_count": 11,
   "metadata": {},
   "outputs": [
    {
     "name": "stdout",
     "output_type": "stream",
     "text": [
      "classifier.6.weight\n",
      "classifier.6.bias\n"
     ]
    }
   ],
   "source": [
    "for name, param in alex.named_parameters():\n",
    "    if param.requires_grad == True:\n",
    "        print(name)\n"
   ]
  },
  {
   "cell_type": "markdown",
   "metadata": {},
   "source": [
    "Model configuration"
   ]
  },
  {
   "cell_type": "code",
   "execution_count": 12,
   "metadata": {},
   "outputs": [],
   "source": [
    "torch.manual_seed(17)\n",
    "multi_loss_fn = nn.CrossEntropyLoss(reduction='mean')\n",
    "optimizer_alex = optim.Adam(alex.parameters(), lr=3e-4)\n"
   ]
  },
  {
   "cell_type": "markdown",
   "metadata": {},
   "source": [
    "Data preparation"
   ]
  },
  {
   "cell_type": "code",
   "execution_count": 13,
   "metadata": {},
   "outputs": [],
   "source": [
    "normalizer = Normalize(mean=[0.485, 0.456, 0.406],\n",
    "std=[0.229, 0.224, 0.225])\n",
    "\n",
    "composer = Compose([Resize(256),\n",
    "    CenterCrop(224),\n",
    "    ToTensor(),\n",
    "    normalizer\n",
    "])\n",
    "\n",
    "train_data = ImageFolder(root='rps', transform=composer)\n",
    "val_data = ImageFolder(root='rps-test-set', transform=composer)\n",
    "# Builds a loader of each set\n",
    "train_loader = DataLoader(\n",
    "    train_data, batch_size=16, shuffle=True\n",
    ")\n",
    "val_loader = DataLoader(val_data, batch_size=16)"
   ]
  },
  {
   "cell_type": "markdown",
   "metadata": {},
   "source": [
    "Model training"
   ]
  },
  {
   "cell_type": "code",
   "execution_count": 14,
   "metadata": {},
   "outputs": [],
   "source": [
    "sbs_alex = StepByStep(alex, multi_loss_fn, optimizer_alex)\n",
    "sbs_alex.set_loaders(train_loader, val_loader)\n",
    "sbs_alex.train(1)"
   ]
  },
  {
   "cell_type": "code",
   "execution_count": 15,
   "metadata": {},
   "outputs": [
    {
     "data": {
      "text/plain": [
       "tensor([[103, 124],\n",
       "        [ 31, 124],\n",
       "        [ 54, 124]])"
      ]
     },
     "execution_count": 15,
     "metadata": {},
     "output_type": "execute_result"
    }
   ],
   "source": [
    "StepByStep.loader_apply(val_loader, sbs_alex.correct)"
   ]
  },
  {
   "cell_type": "markdown",
   "metadata": {},
   "source": [
    "Generating features"
   ]
  },
  {
   "cell_type": "code",
   "execution_count": 16,
   "metadata": {},
   "outputs": [
    {
     "name": "stdout",
     "output_type": "stream",
     "text": [
      "Sequential(\n",
      "  (0): Dropout(p=0.5, inplace=False)\n",
      "  (1): Linear(in_features=9216, out_features=4096, bias=True)\n",
      "  (2): ReLU(inplace=True)\n",
      "  (3): Dropout(p=0.5, inplace=False)\n",
      "  (4): Linear(in_features=4096, out_features=4096, bias=True)\n",
      "  (5): ReLU(inplace=True)\n",
      "  (6): Identity()\n",
      ")\n"
     ]
    }
   ],
   "source": [
    "alex.classifier[6] = nn.Identity()\n",
    "print(alex.classifier)"
   ]
  },
  {
   "cell_type": "code",
   "execution_count": 17,
   "metadata": {},
   "outputs": [],
   "source": [
    "def preprocessed_dataset(model, loader, device=None):\n",
    "    if device is None:\n",
    "        device = next(model.parameters()).device\n",
    "    features = None\n",
    "    labels = None\n",
    "\n",
    "    for i, (x, y) in enumerate(loader):\n",
    "        model.eval()\n",
    "        output = model(x.to(device))\n",
    "        if i == 0:\n",
    "            features = output.detach().cpu()\n",
    "            labels = y.cpu()\n",
    "        else:\n",
    "            features = torch.cat(\n",
    "                [features, output.detach().cpu()])\n",
    "            labels = torch.cat([labels, y.cpu()])\n",
    "\n",
    "    dataset = TensorDataset(features, labels)\n",
    "    return dataset"
   ]
  },
  {
   "cell_type": "code",
   "execution_count": 18,
   "metadata": {},
   "outputs": [],
   "source": [
    "train_preproc = preprocessed_dataset(alex, train_loader)\n",
    "val_preproc = preprocessed_dataset(alex, val_loader)\n"
   ]
  },
  {
   "cell_type": "code",
   "execution_count": 19,
   "metadata": {},
   "outputs": [],
   "source": [
    "torch.save(train_preproc.tensors, 'rps_preproc.pth')\n",
    "torch.save(val_preproc.tensors, 'rps_val_preproc.pth')\n",
    "\n",
    "x, y = torch.load('rps_preproc.pth')\n",
    "train_preproc = TensorDataset(x, y)\n",
    "val_preproc = TensorDataset(*torch.load('rps_val_preproc.pth'))"
   ]
  },
  {
   "cell_type": "code",
   "execution_count": 20,
   "metadata": {},
   "outputs": [],
   "source": [
    "train_preproc_loader = DataLoader(\n",
    "    train_preproc, batch_size=16, shuffle=True\n",
    ")\n",
    "val_preproc_loader = DataLoader(val_preproc, batch_size=16)"
   ]
  },
  {
   "cell_type": "markdown",
   "metadata": {},
   "source": [
    "Top model"
   ]
  },
  {
   "cell_type": "code",
   "execution_count": 22,
   "metadata": {},
   "outputs": [],
   "source": [
    "torch.manual_seed(17)\n",
    "top_model = nn.Sequential(nn.Linear(4096, 3))\n",
    "multi_loss_fn = nn.CrossEntropyLoss(reduction='mean')\n",
    "optimizer_top = optim.Adam(top_model.parameters(), lr=3e-4)"
   ]
  },
  {
   "cell_type": "code",
   "execution_count": 23,
   "metadata": {},
   "outputs": [],
   "source": [
    "sbs_top = StepByStep(top_model, multi_loss_fn, optimizer_top)\n",
    "sbs_top.set_loaders(train_preproc_loader, val_preproc_loader)\n",
    "sbs_top.train(10)"
   ]
  },
  {
   "cell_type": "code",
   "execution_count": 24,
   "metadata": {},
   "outputs": [
    {
     "name": "stdout",
     "output_type": "stream",
     "text": [
      "Sequential(\n",
      "  (0): Dropout(p=0.5, inplace=False)\n",
      "  (1): Linear(in_features=9216, out_features=4096, bias=True)\n",
      "  (2): ReLU(inplace=True)\n",
      "  (3): Dropout(p=0.5, inplace=False)\n",
      "  (4): Linear(in_features=4096, out_features=4096, bias=True)\n",
      "  (5): ReLU(inplace=True)\n",
      "  (6): Sequential(\n",
      "    (0): Linear(in_features=4096, out_features=3, bias=True)\n",
      "  )\n",
      ")\n"
     ]
    }
   ],
   "source": [
    "sbs_alex.model.classifier[6] = top_model\n",
    "print(sbs_alex.model.classifier)"
   ]
  },
  {
   "cell_type": "code",
   "execution_count": 25,
   "metadata": {},
   "outputs": [
    {
     "data": {
      "text/plain": [
       "tensor([[ 54, 124],\n",
       "        [ 82, 124],\n",
       "        [ 96, 124]])"
      ]
     },
     "execution_count": 25,
     "metadata": {},
     "output_type": "execute_result"
    }
   ],
   "source": [
    "StepByStep.loader_apply(val_loader, sbs_alex.correct)"
   ]
  },
  {
   "cell_type": "markdown",
   "metadata": {},
   "source": [
    "## Inception V3"
   ]
  },
  {
   "cell_type": "code",
   "execution_count": 29,
   "metadata": {},
   "outputs": [
    {
     "name": "stderr",
     "output_type": "stream",
     "text": [
      "Downloading: \"https://download.pytorch.org/models/inception_v3_google-0cc3c7bd.pth\" to C:\\Users\\vchar/.cache\\torch\\hub\\checkpoints\\inception_v3_google-0cc3c7bd.pth\n",
      "100%|██████████| 104M/104M [00:44<00:00, 2.45MB/s] \n"
     ]
    }
   ],
   "source": [
    "model = inception_v3(weights=Inception_V3_Weights.DEFAULT)\n",
    "freeze_model(model)\n",
    "\n",
    "torch.manual_seed(42)\n",
    "model.AuxLogits.fc = nn.Linear(768, 3)\n",
    "model.fc = nn.Linear(2048, 3)"
   ]
  },
  {
   "cell_type": "code",
   "execution_count": 30,
   "metadata": {},
   "outputs": [],
   "source": [
    "def inception_loss(outputs, labels):\n",
    "    try:\n",
    "        main, aux = outputs\n",
    "    except ValueError:\n",
    "        main = outputs\n",
    "        aux = None\n",
    "        loss_aux = 0\n",
    "\n",
    "    multi_loss_fn = nn.CrossEntropyLoss(reduction='mean')\n",
    "    loss_main = multi_loss_fn(main, labels)\n",
    "    if aux is not None:\n",
    "        loss_aux = multi_loss_fn(aux, labels)\n",
    "    return loss_main + 0.4 * loss_aux"
   ]
  },
  {
   "cell_type": "code",
   "execution_count": 31,
   "metadata": {},
   "outputs": [],
   "source": [
    "optimizer_model = optim.Adam(model.parameters(), lr=3e-4)\n",
    "sbs_incep = StepByStep(model, inception_loss, optimizer_model)"
   ]
  },
  {
   "cell_type": "code",
   "execution_count": 32,
   "metadata": {},
   "outputs": [],
   "source": [
    "normalizer = Normalize(mean=[0.485, 0.456, 0.406],\n",
    "std=[0.229, 0.224, 0.225])\n",
    "\n",
    "composer = Compose([Resize(299),\n",
    "ToTensor(),\n",
    "normalizer])\n",
    "\n",
    "train_data = ImageFolder(root='rps', transform=composer)\n",
    "val_data = ImageFolder(root='rps-test-set', transform=composer)\n",
    "# Builds a loader of each set\n",
    "train_loader = DataLoader(train_data, batch_size=16, shuffle=True)\n",
    "val_loader = DataLoader(val_data, batch_size=16)"
   ]
  },
  {
   "cell_type": "code",
   "execution_count": 33,
   "metadata": {},
   "outputs": [],
   "source": [
    "sbs_incep.set_loaders(train_loader, val_loader)\n",
    "sbs_incep.train(1)"
   ]
  },
  {
   "cell_type": "code",
   "execution_count": 34,
   "metadata": {},
   "outputs": [
    {
     "data": {
      "text/plain": [
       "tensor([[105, 124],\n",
       "        [ 77, 124],\n",
       "        [117, 124]])"
      ]
     },
     "execution_count": 34,
     "metadata": {},
     "output_type": "execute_result"
    }
   ],
   "source": [
    "StepByStep.loader_apply(val_loader, sbs_incep.correct)"
   ]
  },
  {
   "cell_type": "markdown",
   "metadata": {},
   "source": [
    "Batch normalization"
   ]
  },
  {
   "cell_type": "code",
   "execution_count": 35,
   "metadata": {},
   "outputs": [],
   "source": [
    "torch.manual_seed(23)\n",
    "dummy_points = torch.randn((200, 2)) + torch.rand((200, 2)) * 2\n",
    "dummy_labels = torch.randint(2, (200, 1))\n",
    "dummy_dataset = TensorDataset(dummy_points, dummy_labels)\n",
    "dummy_loader = DataLoader(dummy_dataset, batch_size=64, shuffle=True)"
   ]
  },
  {
   "cell_type": "code",
   "execution_count": 36,
   "metadata": {},
   "outputs": [],
   "source": [
    "iterator = iter(dummy_loader)\n",
    "batch1 = next(iterator)\n",
    "batch2 = next(iterator)\n",
    "batch3 = next(iterator)"
   ]
  },
  {
   "cell_type": "code",
   "execution_count": 37,
   "metadata": {},
   "outputs": [
    {
     "data": {
      "text/plain": [
       "(tensor([0.9850, 1.0381]), tensor([1.4802, 1.1832]))"
      ]
     },
     "execution_count": 37,
     "metadata": {},
     "output_type": "execute_result"
    }
   ],
   "source": [
    "mean1, var1 = batch1[0].mean(axis=0), batch1[0].var(axis=0)\n",
    "mean1, var1"
   ]
  },
  {
   "cell_type": "code",
   "execution_count": 38,
   "metadata": {},
   "outputs": [
    {
     "data": {
      "text/plain": [
       "OrderedDict([('running_mean', tensor([0., 0.])),\n",
       "             ('running_var', tensor([1., 1.])),\n",
       "             ('num_batches_tracked', tensor(0))])"
      ]
     },
     "execution_count": 38,
     "metadata": {},
     "output_type": "execute_result"
    }
   ],
   "source": [
    "batch_normalizer = nn.BatchNorm1d(\n",
    "  num_features=2, affine=False, momentum=None\n",
    ")\n",
    "batch_normalizer.state_dict()"
   ]
  },
  {
   "cell_type": "code",
   "execution_count": 39,
   "metadata": {},
   "outputs": [
    {
     "data": {
      "text/plain": [
       "OrderedDict([('running_mean', tensor([0.9850, 1.0381])),\n",
       "             ('running_var', tensor([1.4802, 1.1832])),\n",
       "             ('num_batches_tracked', tensor(1))])"
      ]
     },
     "execution_count": 39,
     "metadata": {},
     "output_type": "execute_result"
    }
   ],
   "source": [
    "normed1 = batch_normalizer(batch1[0])\n",
    "batch_normalizer.state_dict()"
   ]
  },
  {
   "cell_type": "code",
   "execution_count": 40,
   "metadata": {},
   "outputs": [
    {
     "data": {
      "text/plain": [
       "(tensor([0.0000e+00, 4.0978e-08]), tensor([1.0159, 1.0159]))"
      ]
     },
     "execution_count": 40,
     "metadata": {},
     "output_type": "execute_result"
    }
   ],
   "source": [
    "normed1.mean(axis=0), normed1.var(axis=0)"
   ]
  },
  {
   "cell_type": "code",
   "execution_count": 41,
   "metadata": {},
   "outputs": [
    {
     "data": {
      "text/plain": [
       "tensor([1.0000, 1.0000])"
      ]
     },
     "execution_count": 41,
     "metadata": {},
     "output_type": "execute_result"
    }
   ],
   "source": [
    "normed1.var(axis=0, unbiased=False)"
   ]
  },
  {
   "cell_type": "code",
   "execution_count": 42,
   "metadata": {},
   "outputs": [
    {
     "data": {
      "text/plain": [
       "OrderedDict([('running_mean', tensor([0.9611, 0.9964])),\n",
       "             ('running_var', tensor([1.4247, 1.0460])),\n",
       "             ('num_batches_tracked', tensor(2))])"
      ]
     },
     "execution_count": 42,
     "metadata": {},
     "output_type": "execute_result"
    }
   ],
   "source": [
    "normed2 = batch_normalizer(batch2[0])\n",
    "batch_normalizer.state_dict()"
   ]
  },
  {
   "cell_type": "code",
   "execution_count": 43,
   "metadata": {},
   "outputs": [
    {
     "data": {
      "text/plain": [
       "(tensor([0.9611, 0.9964]), tensor([1.4247, 1.0460]))"
      ]
     },
     "execution_count": 43,
     "metadata": {},
     "output_type": "execute_result"
    }
   ],
   "source": [
    "mean2, var2 = batch2[0].mean(axis=0), batch2[0].var(axis=0)\n",
    "running_mean, running_var = (mean1 + mean2) / 2, (var1 + var2) / 2\n",
    "running_mean, running_var"
   ]
  },
  {
   "cell_type": "code",
   "execution_count": 44,
   "metadata": {},
   "outputs": [
    {
     "data": {
      "text/plain": [
       "(tensor([-0.0201,  0.2208]), tensor([0.7170, 1.0761]))"
      ]
     },
     "execution_count": 44,
     "metadata": {},
     "output_type": "execute_result"
    }
   ],
   "source": [
    "batch_normalizer.eval()\n",
    "normed3 = batch_normalizer(batch3[0])\n",
    "normed3.mean(axis=0), normed3.var(axis=0, unbiased=False)"
   ]
  },
  {
   "cell_type": "markdown",
   "metadata": {},
   "source": [
    "Momentum"
   ]
  },
  {
   "cell_type": "code",
   "execution_count": 45,
   "metadata": {},
   "outputs": [
    {
     "data": {
      "text/plain": [
       "OrderedDict([('running_mean', tensor([0., 0.])),\n",
       "             ('running_var', tensor([1., 1.])),\n",
       "             ('num_batches_tracked', tensor(0))])"
      ]
     },
     "execution_count": 45,
     "metadata": {},
     "output_type": "execute_result"
    }
   ],
   "source": [
    "batch_normalizer_mom = nn.BatchNorm1d(\n",
    "  num_features=2, affine=False, momentum=0.1\n",
    ")\n",
    "batch_normalizer_mom.state_dict()"
   ]
  },
  {
   "cell_type": "code",
   "execution_count": 46,
   "metadata": {},
   "outputs": [
    {
     "data": {
      "text/plain": [
       "OrderedDict([('running_mean', tensor([0.0985, 0.1038])),\n",
       "             ('running_var', tensor([1.0480, 1.0183])),\n",
       "             ('num_batches_tracked', tensor(1))])"
      ]
     },
     "execution_count": 46,
     "metadata": {},
     "output_type": "execute_result"
    }
   ],
   "source": [
    "normed1_mom = batch_normalizer_mom(batch1[0])\n",
    "batch_normalizer_mom.state_dict()"
   ]
  },
  {
   "cell_type": "code",
   "execution_count": 47,
   "metadata": {},
   "outputs": [
    {
     "data": {
      "text/plain": [
       "tensor([[0.0985, 0.1038]])"
      ]
     },
     "execution_count": 47,
     "metadata": {},
     "output_type": "execute_result"
    }
   ],
   "source": [
    "running_mean = torch.zeros((1, 2))\n",
    "running_mean = 0.1 * batch1[0].mean(axis=0) + \\\n",
    "  (1 - 0.1) * running_mean\n",
    "running_mean"
   ]
  },
  {
   "cell_type": "markdown",
   "metadata": {},
   "source": [
    "BatchNorm2d"
   ]
  },
  {
   "cell_type": "code",
   "execution_count": 48,
   "metadata": {},
   "outputs": [
    {
     "data": {
      "text/plain": [
       "torch.Size([64, 3, 10, 10])"
      ]
     },
     "execution_count": 48,
     "metadata": {},
     "output_type": "execute_result"
    }
   ],
   "source": [
    "torch.manual_seed(39)\n",
    "dummy_images = torch.rand((200, 3, 10, 10))\n",
    "dummy_labels = torch.randint(2, (200, 1))\n",
    "dummy_dataset = TensorDataset(dummy_images, dummy_labels)\n",
    "dummy_loader = DataLoader(\n",
    "  dummy_dataset, batch_size=64, shuffle=True\n",
    ")\n",
    "iterator = iter(dummy_loader)\n",
    "batch1 = next(iterator)\n",
    "batch1[0].shape"
   ]
  },
  {
   "cell_type": "code",
   "execution_count": 49,
   "metadata": {},
   "outputs": [
    {
     "name": "stdout",
     "output_type": "stream",
     "text": [
      "tensor([ 1.9148e-08, -2.3544e-08,  9.0078e-08]) tensor([0.9999, 0.9999, 0.9999])\n"
     ]
    }
   ],
   "source": [
    "batch_normalizer = nn.BatchNorm2d(\n",
    "  num_features=3, affine=False, momentum=None\n",
    ")\n",
    "normed1 = batch_normalizer(batch1[0])\n",
    "print(normed1.mean(axis=[0, 2, 3]),\n",
    "normed1.var(axis=[0, 2, 3], unbiased=False))"
   ]
  },
  {
   "cell_type": "markdown",
   "metadata": {},
   "source": [
    "Residual connections"
   ]
  },
  {
   "cell_type": "code",
   "execution_count": 50,
   "metadata": {},
   "outputs": [],
   "source": [
    "torch.manual_seed(23)\n",
    "dummy_points = torch.randn((100, 1))\n",
    "dummy_dataset = TensorDataset(dummy_points, dummy_points)\n",
    "dummy_loader = DataLoader(\n",
    "  dummy_dataset, batch_size=16, shuffle=True\n",
    ")"
   ]
  },
  {
   "cell_type": "code",
   "execution_count": 52,
   "metadata": {},
   "outputs": [],
   "source": [
    "class Dummy(nn.Module):\n",
    "    def __init__(self):\n",
    "        super(Dummy, self).__init__()\n",
    "        self.linear = nn.Linear(1, 1)\n",
    "        self.activation = nn.ReLU()\n",
    "\n",
    "    def forward(self, x):\n",
    "        out = self.linear(x)\n",
    "        out = self.activation(out)\n",
    "        return out"
   ]
  },
  {
   "cell_type": "code",
   "execution_count": 53,
   "metadata": {},
   "outputs": [],
   "source": [
    "torch.manual_seed(555)\n",
    "dummy_model = Dummy()\n",
    "dummy_loss_fn = nn.MSELoss()\n",
    "dummy_optimizer = optim.SGD(dummy_model.parameters(), lr=0.1)"
   ]
  },
  {
   "cell_type": "code",
   "execution_count": 54,
   "metadata": {},
   "outputs": [],
   "source": [
    "dummy_sbs = StepByStep(dummy_model, dummy_loss_fn, dummy_optimizer)\n",
    "dummy_sbs.set_loaders(dummy_loader)\n",
    "dummy_sbs.train(200)"
   ]
  },
  {
   "cell_type": "code",
   "execution_count": 55,
   "metadata": {},
   "outputs": [
    {
     "data": {
      "text/plain": [
       "array([[-0.9012059 ,  0.        ],\n",
       "       [ 0.56559485,  0.56559485],\n",
       "       [-0.48822638,  0.        ],\n",
       "       [ 0.75069577,  0.75069577],\n",
       "       [ 0.58925384,  0.58925384]], dtype=float32)"
      ]
     },
     "execution_count": 55,
     "metadata": {},
     "output_type": "execute_result"
    }
   ],
   "source": [
    "np.concatenate([dummy_points[:5].numpy(),\n",
    "  dummy_sbs.predict(dummy_points)[:5]], axis=1)"
   ]
  },
  {
   "cell_type": "code",
   "execution_count": 56,
   "metadata": {},
   "outputs": [],
   "source": [
    "class DummyResidual(nn.Module):\n",
    "    def __init__(self):\n",
    "        super(DummyResidual, self).__init__()\n",
    "        self.linear = nn.Linear(1, 1)\n",
    "        self.activation = nn.ReLU()\n",
    "\n",
    "    def forward(self, x):\n",
    "        identity = x\n",
    "        out = self.linear(x)\n",
    "        out = self.activation(out)\n",
    "        out = out + identity\n",
    "        return out"
   ]
  },
  {
   "cell_type": "code",
   "execution_count": 57,
   "metadata": {},
   "outputs": [],
   "source": [
    "torch.manual_seed(555)\n",
    "dummy_model = DummyResidual()\n",
    "dummy_loss_fn = nn.MSELoss()\n",
    "dummy_optimizer = optim.SGD(dummy_model.parameters(), lr=0.1)"
   ]
  },
  {
   "cell_type": "code",
   "execution_count": 58,
   "metadata": {},
   "outputs": [],
   "source": [
    "dummy_sbs = StepByStep(dummy_model, dummy_loss_fn, dummy_optimizer)\n",
    "dummy_sbs.set_loaders(dummy_loader)\n",
    "dummy_sbs.train(200)"
   ]
  },
  {
   "cell_type": "code",
   "execution_count": 59,
   "metadata": {},
   "outputs": [
    {
     "data": {
      "text/plain": [
       "array([[-0.9012059 , -0.9012059 ],\n",
       "       [ 0.56559485,  0.56559485],\n",
       "       [-0.48822638, -0.48822638],\n",
       "       [ 0.75069577,  0.75069577],\n",
       "       [ 0.58925384,  0.58925384]], dtype=float32)"
      ]
     },
     "execution_count": 59,
     "metadata": {},
     "output_type": "execute_result"
    }
   ],
   "source": [
    "np.concatenate([dummy_points[:5].numpy(),\n",
    "  dummy_sbs.predict(dummy_points)[:5]], axis=1)"
   ]
  },
  {
   "cell_type": "code",
   "execution_count": 60,
   "metadata": {},
   "outputs": [
    {
     "data": {
      "text/plain": [
       "OrderedDict([('linear.weight', tensor([[0.1490]], device='cuda:0')),\n",
       "             ('linear.bias', tensor([-0.3329], device='cuda:0'))])"
      ]
     },
     "execution_count": 60,
     "metadata": {},
     "output_type": "execute_result"
    }
   ],
   "source": [
    "dummy_model.state_dict()"
   ]
  },
  {
   "cell_type": "markdown",
   "metadata": {},
   "source": [
    "Residual blocks"
   ]
  },
  {
   "cell_type": "code",
   "execution_count": 61,
   "metadata": {},
   "outputs": [],
   "source": [
    "class ResidualBlock(nn.Module):\n",
    "\n",
    "    def __init__(self, in_channels, out_channels, stride=1):\n",
    "        super(ResidualBlock, self).__init__()\n",
    "        self.conv1 = nn.Conv2d(\n",
    "        in_channels, out_channels,\n",
    "        kernel_size=3, padding=1, stride=stride,\n",
    "        bias=False\n",
    "        )\n",
    "        self.bn1 = nn.BatchNorm2d(out_channels)\n",
    "        self.relu = nn.ReLU(inplace=True)\n",
    "        self.conv2 = nn.Conv2d(\n",
    "        out_channels, out_channels,\n",
    "        kernel_size=3, padding=1,\n",
    "        bias=False\n",
    "        )\n",
    "        self.bn2 = nn.BatchNorm2d(out_channels)\n",
    "        self.downsample = None\n",
    "        if out_channels != in_channels:\n",
    "            self.downsample = nn.Conv2d(\n",
    "            in_channels, out_channels,\n",
    "            kernel_size=1, stride=stride\n",
    "            )\n",
    "\n",
    "    def forward(self, x):\n",
    "        identity = x\n",
    "        # First \"weight layer\" + activation\n",
    "        out = self.conv1(x)\n",
    "        out = self.bn1(out)\n",
    "        out = self.relu(out)\n",
    "        # Second \"weight layer\"\n",
    "        out = self.conv2(out)\n",
    "        out = self.bn2(out)\n",
    "        # What is that?!\n",
    "        if self.downsample is not None:\n",
    "            identity = self.downsample(identity)\n",
    "        # Adding inputs before activation\n",
    "        out = out + identity\n",
    "        out = self.relu(out)\n",
    "        return out"
   ]
  },
  {
   "cell_type": "code",
   "execution_count": null,
   "metadata": {},
   "outputs": [],
   "source": []
  }
 ],
 "metadata": {
  "kernelspec": {
   "display_name": "pytorch",
   "language": "python",
   "name": "python3"
  },
  "language_info": {
   "codemirror_mode": {
    "name": "ipython",
    "version": 3
   },
   "file_extension": ".py",
   "mimetype": "text/x-python",
   "name": "python",
   "nbconvert_exporter": "python",
   "pygments_lexer": "ipython3",
   "version": "3.10.12"
  },
  "orig_nbformat": 4
 },
 "nbformat": 4,
 "nbformat_minor": 2
}
